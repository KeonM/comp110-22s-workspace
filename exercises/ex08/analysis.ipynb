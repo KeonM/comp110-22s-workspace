{
 "cells": [
  {
   "cell_type": "markdown",
   "metadata": {},
   "source": [
    "# Analysis for Continuous Improvement\n",
    "\n",
    "Author Name: Keon Marcus\n",
    "\n",
    "9-digit PID: 730476939\n",
    "\n",
    "Continuous Improvement embraces a belief there is _always room to make things better_. It is a mindset and process we value and practice in this course. In this assignment, you are able to practice continuous improvement and contribute to the design ideas of the course.\n",
    "\n",
    "## Brainstorming Ideas\n",
    "\n",
    "Reflect on your personal experiences and observations in COMP110 and **brainstorm modifications to the course that _create value_ beyond its current design**. When brainstorming, try not to be critical of the ideas you come up with regarding scale, stakeholders impacted, or for any other reasons. In the markdown cell below, brainstorm 3 to 5 ideas you think would create value for you.\n",
    "\n",
    "Each brainstormed idea should state a. the suggested change or addition, b. what the expected value created, and c. which specific stakeholders would benefit.  If helpful, expand on the following template \"The course should (state idea here) because it will (state value created here) for (insert stakeholders here).\"\n",
    "\n",
    "Example A: \"The course should use only examples from psychology experiments because it will be more relevant for students who are psychology majors.\"\n",
    "\n",
    "Example B: \"The course should not have post-lesson questions because they are not useful for most students in the class.\""
   ]
  },
  {
   "cell_type": "markdown",
   "metadata": {},
   "source": [
    "### Part 1. Creative Ideation\n",
    "\n",
    "1. The course should have more practice problems (similar to leetcode) that can be submitted for little or even no credit, it would be great practice for students who are struggling to understand a concept.\n",
    "2. The course should not rely on video post questions I think that they usually work the opposite of how their intended and students wind up not getting as much out of the video.\n",
    "3. This course should also implement another multipart project similar to wordle potentially as extra credit for students.\n",
    "4. This course should use a music related example because it would interest most of the class, as people love music! (Maybe reading statistics of a popular album).\n",
    "5. This course should not have reading because it seems like busy work that most students won't retain information from."
   ]
  },
  {
   "cell_type": "markdown",
   "metadata": {},
   "source": [
    "## Connecting with Available Data\n",
    "\n",
    "The data you have available for this analysis is limited to the anonymized course survey you and your peers filled out a few weeks ago. The data is found in the `survey.csv` file in this exercise directory. Each row represents an individual survey response. Each column has a description which can be found on the project write-up here: <https://22s.comp110.com/exercises/ex08.html>\n",
    "\n",
    "Review the list of available data and identify which one of your ideas _does not_, or is _least likely to_, have relevant data to support the analysis of your idea to create value. In the box below, identify which of your ideas lacks data and suggest how we might be able to collect this data in the future. One aspect of _continuous improvement_ is trying to avoid \"tunnel vision\" where possible improvements are not considered because there is no data available to analyze it. Identifying new data sources can unlock improvements!"
   ]
  },
  {
   "cell_type": "markdown",
   "metadata": {},
   "source": [
    "### Part 2. Identifying Missing Data\n",
    "\n",
    "1. Idea without sufficient data to analyze: 'This course should not have reading because it seems like busy work that most students won't retain information from.'\n",
    "\n",
    "2. Suggestion for how to collect data to support this idea in the future: One method for collecting on how effective the reading are is having a question or two on exams that are related to the prior reading. These questions won't be graded, they are meant to see who retained information from the reading. We can compile all of that data over a few semesters and see what percentage of students can answer the questions correctly with no proper practice or expectation of them."
   ]
  },
  {
   "cell_type": "markdown",
   "metadata": {},
   "source": [
    "## Choosing an Idea to Analyze\n",
    "\n",
    "Consider those of your ideas which _do_ seem likely to have relevant data to analyze. If none of your ideas do, spend a few minutes and brainstorm another idea or two with the added connection of data available on hand and add those ideas to your brainstormed ideas list.\n",
    "\n",
    "Select the one idea which you believe is _most valuable_ to analyze relative to the others and has data to support the analysis of. In the markdown cell for Part 3 below, identify the idea you are exploring and articulate why you believe it is most valuable (e.g. widest impact, biggest opportunity for improvement, simplest change for significant improvement, and so on)."
   ]
  },
  {
   "cell_type": "markdown",
   "metadata": {},
   "source": [
    "### Part 3. Choosing Your Analysis\n",
    "\n",
    "1. Idea to analyze with available data: 'The course should not rely on video post questions I think that they usually work the opposite of how their intended and students wind up not getting as much out of the video.'\n",
    "\n",
    "2. This idea is more valuable than the others brainstormed because: The 'ls_effective' data point asks students if the videos help them understand the topics. We can compile this data and see how students respond over the past few semesters of surveys.\n"
   ]
  },
  {
   "cell_type": "markdown",
   "metadata": {},
   "source": [
    "## Your Analysis\n",
    "\n",
    "Before you begin analysis, a reminder that we do not expect the data to support everyone's ideas and you can complete this exercise for full credit even if the data does not clearly support your suggestion or even completely refutes it. What we are looking for is a logical attempt to explore the data using the techniques you have learned up until now in a way that _either_ supports, refutes, or does not have a clear result and then to reflect on your findings after the analysis.\n",
    "\n",
    "Using the utility functions you created for the previous exercise, you will continue with your analysis in the following part. Before you begin, refer to the rubric on the technical expectations of this section in the exercise write-up.\n",
    "\n",
    "In this section, you are expected to interleave code and markdown cells such that for each step of your analysis you are starting with an English description of what you are planning to do next in a markdown cell, followed by a Python cell that performs that step of the analysis."
   ]
  },
  {
   "cell_type": "markdown",
   "metadata": {},
   "source": [
    "### Part 4. Analysis\n",
    "\n",
    "We begin by changing some settings in the notebook to automatically reload changes to imported files."
   ]
  },
  {
   "cell_type": "code",
   "execution_count": 25,
   "metadata": {},
   "outputs": [],
   "source": [
    "%reload_ext autoreload\n",
    "%autoreload 2"
   ]
  },
  {
   "cell_type": "markdown",
   "metadata": {},
   "source": [
    "We continue by importing the helper functions from `data_utils`."
   ]
  },
  {
   "cell_type": "code",
   "execution_count": 26,
   "metadata": {},
   "outputs": [],
   "source": [
    "from data_utils import read_csv_rows, head, columnar, select, count, how_many\n",
    "from tabulate import tabulate\n",
    "from matplotlib import pyplot as plt\n"
   ]
  },
  {
   "cell_type": "markdown",
   "metadata": {},
   "source": [
    "Next, ... (you take it from here and add additional code and markdown cells to read in the CSV file and process it as needed)"
   ]
  },
  {
   "cell_type": "code",
   "execution_count": 27,
   "metadata": {},
   "outputs": [],
   "source": [
    "SURVEY_DATA_CSV_FILE_PATH: str = \"../../data/survey.csv\""
   ]
  },
  {
   "cell_type": "code",
   "execution_count": 28,
   "metadata": {},
   "outputs": [
    {
     "name": "stdout",
     "output_type": "stream",
     "text": [
      "Data File Read: ../../data/survey.csv\n",
      "620 rows\n",
      "35 columns\n",
      "Columns names: dict_keys(['row', 'year', 'unc_status', 'comp_major', 'primary_major', 'data_science', 'prereqs', 'prior_exp', 'ap_principles', 'ap_a', 'other_comp', 'prior_time', 'languages', 'hours_online_social', 'hours_online_work', 'lesson_time', 'sync_perf', 'all_sync', 'flipped_class', 'no_hybrid', 'own_notes', 'own_examples', 'oh_visits', 'ls_effective', 'lsqs_effective', 'programming_effective', 'qz_effective', 'oh_effective', 'tutoring_effective', 'pace', 'difficulty', 'understanding', 'interesting', 'valuable', 'would_recommend'])\n"
     ]
    }
   ],
   "source": [
    "data_rows: list[dict[str, str]] = read_csv_rows(SURVEY_DATA_CSV_FILE_PATH)\n",
    "\n",
    "if len(data_rows) == 0:\n",
    "    print(\"Implement read_csv_rows in data_utils.py\")\n",
    "else:\n",
    "    print(f\"Data File Read: {SURVEY_DATA_CSV_FILE_PATH}\")\n",
    "    print(f\"{len(data_rows)} rows\")\n",
    "    print(f\"{len(data_rows[0].keys())} columns\")\n",
    "    print(f\"Columns names: {data_rows[0].keys()}\")"
   ]
  },
  {
   "cell_type": "markdown",
   "metadata": {},
   "source": [
    "In the previous function I am using the `read_csv_rows` function to analyze the details of the data."
   ]
  },
  {
   "cell_type": "code",
   "execution_count": 29,
   "metadata": {},
   "outputs": [
    {
     "name": "stdout",
     "output_type": "stream",
     "text": [
      "35 columns\n",
      "620 rows\n",
      "Columns names: dict_keys(['row', 'year', 'unc_status', 'comp_major', 'primary_major', 'data_science', 'prereqs', 'prior_exp', 'ap_principles', 'ap_a', 'other_comp', 'prior_time', 'languages', 'hours_online_social', 'hours_online_work', 'lesson_time', 'sync_perf', 'all_sync', 'flipped_class', 'no_hybrid', 'own_notes', 'own_examples', 'oh_visits', 'ls_effective', 'lsqs_effective', 'programming_effective', 'qz_effective', 'oh_effective', 'tutoring_effective', 'pace', 'difficulty', 'understanding', 'interesting', 'valuable', 'would_recommend'])\n"
     ]
    }
   ],
   "source": [
    "data_cols: dict[str, list[str]] = columnar(data_rows)\n",
    "\n",
    "if len(data_cols.keys()) == 0:\n",
    "    print(\"Implement columnar in data_utils.py\")\n",
    "else:\n",
    "    print(f\"{len(data_cols.keys())} columns\")\n",
    "    print(f\"{len(data_cols['ls_effective'])} rows\")\n",
    "    print(f\"Columns names: {data_cols.keys()}\")"
   ]
  },
  {
   "cell_type": "markdown",
   "metadata": {},
   "source": [
    "Here I am using the `columnar` function to read how many columns of data there are. I am also using it to read how many rows of 'ls_effective' data there is since this the data I hope to further analyze."
   ]
  },
  {
   "cell_type": "code",
   "execution_count": 30,
   "metadata": {},
   "outputs": [
    {
     "name": "stdout",
     "output_type": "stream",
     "text": [
      "Here's your table!\n"
     ]
    },
    {
     "data": {
      "text/html": [
       "<table>\n",
       "<thead>\n",
       "<tr><th style=\"text-align: right;\">  row</th><th style=\"text-align: right;\">  year</th><th>unc_status                 </th><th>comp_major  </th><th>primary_major   </th><th>data_science  </th><th>prereqs                                                                       </th><th>prior_exp                   </th><th>ap_principles  </th><th>ap_a  </th><th>other_comp                      </th><th>prior_time                  </th><th>languages                                                   </th><th>hours_online_social  </th><th>hours_online_work  </th><th style=\"text-align: right;\">  lesson_time</th><th style=\"text-align: right;\">  sync_perf</th><th style=\"text-align: right;\">  all_sync</th><th style=\"text-align: right;\">  flipped_class</th><th style=\"text-align: right;\">  no_hybrid</th><th style=\"text-align: right;\">  own_notes</th><th style=\"text-align: right;\">  own_examples</th><th style=\"text-align: right;\">  oh_visits</th><th style=\"text-align: right;\">  ls_effective</th><th style=\"text-align: right;\">  lsqs_effective</th><th style=\"text-align: right;\">  programming_effective</th><th style=\"text-align: right;\">  qz_effective</th><th>oh_effective  </th><th>tutoring_effective  </th><th style=\"text-align: right;\">  pace</th><th style=\"text-align: right;\">  difficulty</th><th style=\"text-align: right;\">  understanding</th><th style=\"text-align: right;\">  interesting</th><th style=\"text-align: right;\">  valuable</th><th style=\"text-align: right;\">  would_recommend</th></tr>\n",
       "</thead>\n",
       "<tbody>\n",
       "<tr><td style=\"text-align: right;\">    0</td><td style=\"text-align: right;\">    22</td><td>Returning UNC Student      </td><td>No          </td><td>Mathematics     </td><td>No            </td><td>MATH 233, MATH 347, MATH 381                                                  </td><td>7-12 months                 </td><td>No             </td><td>No    </td><td>UNC                             </td><td>1 month or so               </td><td>Python, R / Matlab / SAS                                    </td><td>3 to 5 hours         </td><td>0 to 2 hours       </td><td style=\"text-align: right;\">            6</td><td style=\"text-align: right;\">          2</td><td style=\"text-align: right;\">         2</td><td style=\"text-align: right;\">              1</td><td style=\"text-align: right;\">          2</td><td style=\"text-align: right;\">          4</td><td style=\"text-align: right;\">             4</td><td style=\"text-align: right;\">          0</td><td style=\"text-align: right;\">             7</td><td style=\"text-align: right;\">               3</td><td style=\"text-align: right;\">                      7</td><td style=\"text-align: right;\">             5</td><td>              </td><td>                    </td><td style=\"text-align: right;\">     1</td><td style=\"text-align: right;\">           1</td><td style=\"text-align: right;\">              7</td><td style=\"text-align: right;\">            5</td><td style=\"text-align: right;\">         6</td><td style=\"text-align: right;\">                5</td></tr>\n",
       "<tr><td style=\"text-align: right;\">    1</td><td style=\"text-align: right;\">    25</td><td>Returning UNC Student      </td><td>No          </td><td>Mathematics     </td><td>Yes           </td><td>MATH 130, MATH 231, STOR 155                                                  </td><td>None to less than one month!</td><td>               </td><td>      </td><td>                                </td><td>                            </td><td>                                                            </td><td>0 to 2 hours         </td><td>5 to 10 hours      </td><td style=\"text-align: right;\">            4</td><td style=\"text-align: right;\">          3</td><td style=\"text-align: right;\">         3</td><td style=\"text-align: right;\">              1</td><td style=\"text-align: right;\">          2</td><td style=\"text-align: right;\">          6</td><td style=\"text-align: right;\">             4</td><td style=\"text-align: right;\">          5</td><td style=\"text-align: right;\">             5</td><td style=\"text-align: right;\">               5</td><td style=\"text-align: right;\">                      5</td><td style=\"text-align: right;\">             5</td><td>7             </td><td>6                   </td><td style=\"text-align: right;\">     6</td><td style=\"text-align: right;\">           6</td><td style=\"text-align: right;\">              3</td><td style=\"text-align: right;\">            4</td><td style=\"text-align: right;\">         6</td><td style=\"text-align: right;\">                4</td></tr>\n",
       "<tr><td style=\"text-align: right;\">    2</td><td style=\"text-align: right;\">    25</td><td>Incoming First-year Student</td><td>Yes - BA    </td><td>Computer Science</td><td>No            </td><td>MATH 130, MATH 152, MATH 210                                                  </td><td>None to less than one month!</td><td>               </td><td>      </td><td>                                </td><td>                            </td><td>                                                            </td><td>3 to 5 hours         </td><td>5 to 10 hours      </td><td style=\"text-align: right;\">            3</td><td style=\"text-align: right;\">          3</td><td style=\"text-align: right;\">         4</td><td style=\"text-align: right;\">              2</td><td style=\"text-align: right;\">          1</td><td style=\"text-align: right;\">          7</td><td style=\"text-align: right;\">             7</td><td style=\"text-align: right;\">          2</td><td style=\"text-align: right;\">             5</td><td style=\"text-align: right;\">               6</td><td style=\"text-align: right;\">                      7</td><td style=\"text-align: right;\">             7</td><td>4             </td><td>                    </td><td style=\"text-align: right;\">     6</td><td style=\"text-align: right;\">           4</td><td style=\"text-align: right;\">              6</td><td style=\"text-align: right;\">            7</td><td style=\"text-align: right;\">         7</td><td style=\"text-align: right;\">                7</td></tr>\n",
       "<tr><td style=\"text-align: right;\">    3</td><td style=\"text-align: right;\">    24</td><td>Returning UNC Student      </td><td>Yes - BS    </td><td>Computer Science</td><td>Maybe         </td><td>MATH 231, MATH 232, STOR 155                                                  </td><td>2-6 months                  </td><td>No             </td><td>No    </td><td>High school course (IB or other)</td><td>None to less than one month!</td><td>Python                                                      </td><td>3 to 5 hours         </td><td>3 to 5 hours       </td><td style=\"text-align: right;\">            5</td><td style=\"text-align: right;\">          5</td><td style=\"text-align: right;\">         4</td><td style=\"text-align: right;\">              3</td><td style=\"text-align: right;\">          3</td><td style=\"text-align: right;\">          6</td><td style=\"text-align: right;\">             5</td><td style=\"text-align: right;\">          1</td><td style=\"text-align: right;\">             6</td><td style=\"text-align: right;\">               3</td><td style=\"text-align: right;\">                      5</td><td style=\"text-align: right;\">             5</td><td>5             </td><td>4                   </td><td style=\"text-align: right;\">     4</td><td style=\"text-align: right;\">           4</td><td style=\"text-align: right;\">              5</td><td style=\"text-align: right;\">            6</td><td style=\"text-align: right;\">         6</td><td style=\"text-align: right;\">                6</td></tr>\n",
       "<tr><td style=\"text-align: right;\">    4</td><td style=\"text-align: right;\">    25</td><td>Incoming First-year Student</td><td>Yes - BA    </td><td>Computer Science</td><td>No            </td><td>MATH 130                                                                      </td><td>None to less than one month!</td><td>               </td><td>      </td><td>                                </td><td>                            </td><td>                                                            </td><td>0 to 2 hours         </td><td>3 to 5 hours       </td><td style=\"text-align: right;\">            7</td><td style=\"text-align: right;\">          3</td><td style=\"text-align: right;\">         3</td><td style=\"text-align: right;\">              3</td><td style=\"text-align: right;\">          2</td><td style=\"text-align: right;\">          6</td><td style=\"text-align: right;\">             3</td><td style=\"text-align: right;\">          5</td><td style=\"text-align: right;\">             6</td><td style=\"text-align: right;\">               6</td><td style=\"text-align: right;\">                      6</td><td style=\"text-align: right;\">             6</td><td>7             </td><td>3                   </td><td style=\"text-align: right;\">     6</td><td style=\"text-align: right;\">           5</td><td style=\"text-align: right;\">              5</td><td style=\"text-align: right;\">            6</td><td style=\"text-align: right;\">         6</td><td style=\"text-align: right;\">                7</td></tr>\n",
       "<tr><td style=\"text-align: right;\">    5</td><td style=\"text-align: right;\">    25</td><td>Incoming First-year Student</td><td>Yes - BS    </td><td>Computer Science</td><td>Maybe         </td><td>MATH 129P, MATH 231, MATH 232, STOR 155                                       </td><td>2-6 months                  </td><td>No             </td><td>No    </td><td>High school course (IB or other)</td><td>1 month or so               </td><td>Python, Java / C#, JavaScript / TypeScript, HTML / CSS      </td><td>10+ hours            </td><td>5 to 10 hours      </td><td style=\"text-align: right;\">            5</td><td style=\"text-align: right;\">          2</td><td style=\"text-align: right;\">         2</td><td style=\"text-align: right;\">              2</td><td style=\"text-align: right;\">          1</td><td style=\"text-align: right;\">          5</td><td style=\"text-align: right;\">             5</td><td style=\"text-align: right;\">          0</td><td style=\"text-align: right;\">             7</td><td style=\"text-align: right;\">               7</td><td style=\"text-align: right;\">                      7</td><td style=\"text-align: right;\">             7</td><td>              </td><td>                    </td><td style=\"text-align: right;\">     4</td><td style=\"text-align: right;\">           3</td><td style=\"text-align: right;\">              6</td><td style=\"text-align: right;\">            7</td><td style=\"text-align: right;\">         7</td><td style=\"text-align: right;\">                7</td></tr>\n",
       "<tr><td style=\"text-align: right;\">    6</td><td style=\"text-align: right;\">    25</td><td>Incoming First-year Student</td><td>Yes - BA    </td><td>Computer Science</td><td>Yes           </td><td>MATH 129P, MATH 130                                                           </td><td>2-6 months                  </td><td>Yes            </td><td>No    </td><td>High school course (IB or other)</td><td>7-12 months                 </td><td>Python, Java / C#, JavaScript / TypeScript, HTML / CSS, Bash</td><td>3 to 5 hours         </td><td>5 to 10 hours      </td><td style=\"text-align: right;\">            5</td><td style=\"text-align: right;\">          3</td><td style=\"text-align: right;\">         3</td><td style=\"text-align: right;\">              5</td><td style=\"text-align: right;\">          3</td><td style=\"text-align: right;\">          7</td><td style=\"text-align: right;\">             7</td><td style=\"text-align: right;\">          2</td><td style=\"text-align: right;\">             7</td><td style=\"text-align: right;\">               5</td><td style=\"text-align: right;\">                      7</td><td style=\"text-align: right;\">             5</td><td>4             </td><td>4                   </td><td style=\"text-align: right;\">     4</td><td style=\"text-align: right;\">           4</td><td style=\"text-align: right;\">              6</td><td style=\"text-align: right;\">            7</td><td style=\"text-align: right;\">         7</td><td style=\"text-align: right;\">                7</td></tr>\n",
       "<tr><td style=\"text-align: right;\">    7</td><td style=\"text-align: right;\">    24</td><td>Returning UNC Student      </td><td>Yes - BA    </td><td>Neuroscience    </td><td>No            </td><td>MATH 130, MATH 152, MATH 231, MATH 232, MATH 233, MATH 381, PSYC 210, STOR 155</td><td>None to less than one month!</td><td>               </td><td>      </td><td>                                </td><td>                            </td><td>                                                            </td><td>5 to 10 hours        </td><td>5 to 10 hours      </td><td style=\"text-align: right;\">            1</td><td style=\"text-align: right;\">          2</td><td style=\"text-align: right;\">         2</td><td style=\"text-align: right;\">              1</td><td style=\"text-align: right;\">          1</td><td style=\"text-align: right;\">          7</td><td style=\"text-align: right;\">             7</td><td style=\"text-align: right;\">          0</td><td style=\"text-align: right;\">             7</td><td style=\"text-align: right;\">               7</td><td style=\"text-align: right;\">                      7</td><td style=\"text-align: right;\">             7</td><td>7             </td><td>                    </td><td style=\"text-align: right;\">     4</td><td style=\"text-align: right;\">           4</td><td style=\"text-align: right;\">              7</td><td style=\"text-align: right;\">            7</td><td style=\"text-align: right;\">         7</td><td style=\"text-align: right;\">                7</td></tr>\n",
       "<tr><td style=\"text-align: right;\">    8</td><td style=\"text-align: right;\">    25</td><td>Incoming First-year Student</td><td>Yes - BS    </td><td>Computer Science</td><td>Yes           </td><td>STOR 120                                                                      </td><td>None to less than one month!</td><td>               </td><td>      </td><td>                                </td><td>                            </td><td>                                                            </td><td>0 to 2 hours         </td><td>10+ hours          </td><td style=\"text-align: right;\">            1</td><td style=\"text-align: right;\">          5</td><td style=\"text-align: right;\">         4</td><td style=\"text-align: right;\">              6</td><td style=\"text-align: right;\">          5</td><td style=\"text-align: right;\">          7</td><td style=\"text-align: right;\">             7</td><td style=\"text-align: right;\">          1</td><td style=\"text-align: right;\">             7</td><td style=\"text-align: right;\">               7</td><td style=\"text-align: right;\">                      7</td><td style=\"text-align: right;\">             7</td><td>7             </td><td>7                   </td><td style=\"text-align: right;\">     5</td><td style=\"text-align: right;\">           4</td><td style=\"text-align: right;\">              6</td><td style=\"text-align: right;\">            7</td><td style=\"text-align: right;\">         7</td><td style=\"text-align: right;\">                7</td></tr>\n",
       "<tr><td style=\"text-align: right;\">    9</td><td style=\"text-align: right;\">    22</td><td>Returning UNC Student      </td><td>No          </td><td>Neuroscience    </td><td>No            </td><td>MATH 130, MATH 231, MATH 232, PSYC 210                                        </td><td>None to less than one month!</td><td>               </td><td>      </td><td>                                </td><td>                            </td><td>                                                            </td><td>3 to 5 hours         </td><td>5 to 10 hours      </td><td style=\"text-align: right;\">            5</td><td style=\"text-align: right;\">          2</td><td style=\"text-align: right;\">         2</td><td style=\"text-align: right;\">              1</td><td style=\"text-align: right;\">          1</td><td style=\"text-align: right;\">          7</td><td style=\"text-align: right;\">             7</td><td style=\"text-align: right;\">          2</td><td style=\"text-align: right;\">             7</td><td style=\"text-align: right;\">               5</td><td style=\"text-align: right;\">                      7</td><td style=\"text-align: right;\">             7</td><td>7             </td><td>                    </td><td style=\"text-align: right;\">     7</td><td style=\"text-align: right;\">           4</td><td style=\"text-align: right;\">              6</td><td style=\"text-align: right;\">            7</td><td style=\"text-align: right;\">         7</td><td style=\"text-align: right;\">                7</td></tr>\n",
       "</tbody>\n",
       "</table>"
      ],
      "text/plain": [
       "'<table>\\n<thead>\\n<tr><th style=\"text-align: right;\">  row</th><th style=\"text-align: right;\">  year</th><th>unc_status                 </th><th>comp_major  </th><th>primary_major   </th><th>data_science  </th><th>prereqs                                                                       </th><th>prior_exp                   </th><th>ap_principles  </th><th>ap_a  </th><th>other_comp                      </th><th>prior_time                  </th><th>languages                                                   </th><th>hours_online_social  </th><th>hours_online_work  </th><th style=\"text-align: right;\">  lesson_time</th><th style=\"text-align: right;\">  sync_perf</th><th style=\"text-align: right;\">  all_sync</th><th style=\"text-align: right;\">  flipped_class</th><th style=\"text-align: right;\">  no_hybrid</th><th style=\"text-align: right;\">  own_notes</th><th style=\"text-align: right;\">  own_examples</th><th style=\"text-align: right;\">  oh_visits</th><th style=\"text-align: right;\">  ls_effective</th><th style=\"text-align: right;\">  lsqs_effective</th><th style=\"text-align: right;\">  programming_effective</th><th style=\"text-align: right;\">  qz_effective</th><th>oh_effective  </th><th>tutoring_effective  </th><th style=\"text-align: right;\">  pace</th><th style=\"text-align: right;\">  difficulty</th><th style=\"text-align: right;\">  understanding</th><th style=\"text-align: right;\">  interesting</th><th style=\"text-align: right;\">  valuable</th><th style=\"text-align: right;\">  would_recommend</th></tr>\\n</thead>\\n<tbody>\\n<tr><td style=\"text-align: right;\">    0</td><td style=\"text-align: right;\">    22</td><td>Returning UNC Student      </td><td>No          </td><td>Mathematics     </td><td>No            </td><td>MATH 233, MATH 347, MATH 381                                                  </td><td>7-12 months                 </td><td>No             </td><td>No    </td><td>UNC                             </td><td>1 month or so               </td><td>Python, R / Matlab / SAS                                    </td><td>3 to 5 hours         </td><td>0 to 2 hours       </td><td style=\"text-align: right;\">            6</td><td style=\"text-align: right;\">          2</td><td style=\"text-align: right;\">         2</td><td style=\"text-align: right;\">              1</td><td style=\"text-align: right;\">          2</td><td style=\"text-align: right;\">          4</td><td style=\"text-align: right;\">             4</td><td style=\"text-align: right;\">          0</td><td style=\"text-align: right;\">             7</td><td style=\"text-align: right;\">               3</td><td style=\"text-align: right;\">                      7</td><td style=\"text-align: right;\">             5</td><td>              </td><td>                    </td><td style=\"text-align: right;\">     1</td><td style=\"text-align: right;\">           1</td><td style=\"text-align: right;\">              7</td><td style=\"text-align: right;\">            5</td><td style=\"text-align: right;\">         6</td><td style=\"text-align: right;\">                5</td></tr>\\n<tr><td style=\"text-align: right;\">    1</td><td style=\"text-align: right;\">    25</td><td>Returning UNC Student      </td><td>No          </td><td>Mathematics     </td><td>Yes           </td><td>MATH 130, MATH 231, STOR 155                                                  </td><td>None to less than one month!</td><td>               </td><td>      </td><td>                                </td><td>                            </td><td>                                                            </td><td>0 to 2 hours         </td><td>5 to 10 hours      </td><td style=\"text-align: right;\">            4</td><td style=\"text-align: right;\">          3</td><td style=\"text-align: right;\">         3</td><td style=\"text-align: right;\">              1</td><td style=\"text-align: right;\">          2</td><td style=\"text-align: right;\">          6</td><td style=\"text-align: right;\">             4</td><td style=\"text-align: right;\">          5</td><td style=\"text-align: right;\">             5</td><td style=\"text-align: right;\">               5</td><td style=\"text-align: right;\">                      5</td><td style=\"text-align: right;\">             5</td><td>7             </td><td>6                   </td><td style=\"text-align: right;\">     6</td><td style=\"text-align: right;\">           6</td><td style=\"text-align: right;\">              3</td><td style=\"text-align: right;\">            4</td><td style=\"text-align: right;\">         6</td><td style=\"text-align: right;\">                4</td></tr>\\n<tr><td style=\"text-align: right;\">    2</td><td style=\"text-align: right;\">    25</td><td>Incoming First-year Student</td><td>Yes - BA    </td><td>Computer Science</td><td>No            </td><td>MATH 130, MATH 152, MATH 210                                                  </td><td>None to less than one month!</td><td>               </td><td>      </td><td>                                </td><td>                            </td><td>                                                            </td><td>3 to 5 hours         </td><td>5 to 10 hours      </td><td style=\"text-align: right;\">            3</td><td style=\"text-align: right;\">          3</td><td style=\"text-align: right;\">         4</td><td style=\"text-align: right;\">              2</td><td style=\"text-align: right;\">          1</td><td style=\"text-align: right;\">          7</td><td style=\"text-align: right;\">             7</td><td style=\"text-align: right;\">          2</td><td style=\"text-align: right;\">             5</td><td style=\"text-align: right;\">               6</td><td style=\"text-align: right;\">                      7</td><td style=\"text-align: right;\">             7</td><td>4             </td><td>                    </td><td style=\"text-align: right;\">     6</td><td style=\"text-align: right;\">           4</td><td style=\"text-align: right;\">              6</td><td style=\"text-align: right;\">            7</td><td style=\"text-align: right;\">         7</td><td style=\"text-align: right;\">                7</td></tr>\\n<tr><td style=\"text-align: right;\">    3</td><td style=\"text-align: right;\">    24</td><td>Returning UNC Student      </td><td>Yes - BS    </td><td>Computer Science</td><td>Maybe         </td><td>MATH 231, MATH 232, STOR 155                                                  </td><td>2-6 months                  </td><td>No             </td><td>No    </td><td>High school course (IB or other)</td><td>None to less than one month!</td><td>Python                                                      </td><td>3 to 5 hours         </td><td>3 to 5 hours       </td><td style=\"text-align: right;\">            5</td><td style=\"text-align: right;\">          5</td><td style=\"text-align: right;\">         4</td><td style=\"text-align: right;\">              3</td><td style=\"text-align: right;\">          3</td><td style=\"text-align: right;\">          6</td><td style=\"text-align: right;\">             5</td><td style=\"text-align: right;\">          1</td><td style=\"text-align: right;\">             6</td><td style=\"text-align: right;\">               3</td><td style=\"text-align: right;\">                      5</td><td style=\"text-align: right;\">             5</td><td>5             </td><td>4                   </td><td style=\"text-align: right;\">     4</td><td style=\"text-align: right;\">           4</td><td style=\"text-align: right;\">              5</td><td style=\"text-align: right;\">            6</td><td style=\"text-align: right;\">         6</td><td style=\"text-align: right;\">                6</td></tr>\\n<tr><td style=\"text-align: right;\">    4</td><td style=\"text-align: right;\">    25</td><td>Incoming First-year Student</td><td>Yes - BA    </td><td>Computer Science</td><td>No            </td><td>MATH 130                                                                      </td><td>None to less than one month!</td><td>               </td><td>      </td><td>                                </td><td>                            </td><td>                                                            </td><td>0 to 2 hours         </td><td>3 to 5 hours       </td><td style=\"text-align: right;\">            7</td><td style=\"text-align: right;\">          3</td><td style=\"text-align: right;\">         3</td><td style=\"text-align: right;\">              3</td><td style=\"text-align: right;\">          2</td><td style=\"text-align: right;\">          6</td><td style=\"text-align: right;\">             3</td><td style=\"text-align: right;\">          5</td><td style=\"text-align: right;\">             6</td><td style=\"text-align: right;\">               6</td><td style=\"text-align: right;\">                      6</td><td style=\"text-align: right;\">             6</td><td>7             </td><td>3                   </td><td style=\"text-align: right;\">     6</td><td style=\"text-align: right;\">           5</td><td style=\"text-align: right;\">              5</td><td style=\"text-align: right;\">            6</td><td style=\"text-align: right;\">         6</td><td style=\"text-align: right;\">                7</td></tr>\\n<tr><td style=\"text-align: right;\">    5</td><td style=\"text-align: right;\">    25</td><td>Incoming First-year Student</td><td>Yes - BS    </td><td>Computer Science</td><td>Maybe         </td><td>MATH 129P, MATH 231, MATH 232, STOR 155                                       </td><td>2-6 months                  </td><td>No             </td><td>No    </td><td>High school course (IB or other)</td><td>1 month or so               </td><td>Python, Java / C#, JavaScript / TypeScript, HTML / CSS      </td><td>10+ hours            </td><td>5 to 10 hours      </td><td style=\"text-align: right;\">            5</td><td style=\"text-align: right;\">          2</td><td style=\"text-align: right;\">         2</td><td style=\"text-align: right;\">              2</td><td style=\"text-align: right;\">          1</td><td style=\"text-align: right;\">          5</td><td style=\"text-align: right;\">             5</td><td style=\"text-align: right;\">          0</td><td style=\"text-align: right;\">             7</td><td style=\"text-align: right;\">               7</td><td style=\"text-align: right;\">                      7</td><td style=\"text-align: right;\">             7</td><td>              </td><td>                    </td><td style=\"text-align: right;\">     4</td><td style=\"text-align: right;\">           3</td><td style=\"text-align: right;\">              6</td><td style=\"text-align: right;\">            7</td><td style=\"text-align: right;\">         7</td><td style=\"text-align: right;\">                7</td></tr>\\n<tr><td style=\"text-align: right;\">    6</td><td style=\"text-align: right;\">    25</td><td>Incoming First-year Student</td><td>Yes - BA    </td><td>Computer Science</td><td>Yes           </td><td>MATH 129P, MATH 130                                                           </td><td>2-6 months                  </td><td>Yes            </td><td>No    </td><td>High school course (IB or other)</td><td>7-12 months                 </td><td>Python, Java / C#, JavaScript / TypeScript, HTML / CSS, Bash</td><td>3 to 5 hours         </td><td>5 to 10 hours      </td><td style=\"text-align: right;\">            5</td><td style=\"text-align: right;\">          3</td><td style=\"text-align: right;\">         3</td><td style=\"text-align: right;\">              5</td><td style=\"text-align: right;\">          3</td><td style=\"text-align: right;\">          7</td><td style=\"text-align: right;\">             7</td><td style=\"text-align: right;\">          2</td><td style=\"text-align: right;\">             7</td><td style=\"text-align: right;\">               5</td><td style=\"text-align: right;\">                      7</td><td style=\"text-align: right;\">             5</td><td>4             </td><td>4                   </td><td style=\"text-align: right;\">     4</td><td style=\"text-align: right;\">           4</td><td style=\"text-align: right;\">              6</td><td style=\"text-align: right;\">            7</td><td style=\"text-align: right;\">         7</td><td style=\"text-align: right;\">                7</td></tr>\\n<tr><td style=\"text-align: right;\">    7</td><td style=\"text-align: right;\">    24</td><td>Returning UNC Student      </td><td>Yes - BA    </td><td>Neuroscience    </td><td>No            </td><td>MATH 130, MATH 152, MATH 231, MATH 232, MATH 233, MATH 381, PSYC 210, STOR 155</td><td>None to less than one month!</td><td>               </td><td>      </td><td>                                </td><td>                            </td><td>                                                            </td><td>5 to 10 hours        </td><td>5 to 10 hours      </td><td style=\"text-align: right;\">            1</td><td style=\"text-align: right;\">          2</td><td style=\"text-align: right;\">         2</td><td style=\"text-align: right;\">              1</td><td style=\"text-align: right;\">          1</td><td style=\"text-align: right;\">          7</td><td style=\"text-align: right;\">             7</td><td style=\"text-align: right;\">          0</td><td style=\"text-align: right;\">             7</td><td style=\"text-align: right;\">               7</td><td style=\"text-align: right;\">                      7</td><td style=\"text-align: right;\">             7</td><td>7             </td><td>                    </td><td style=\"text-align: right;\">     4</td><td style=\"text-align: right;\">           4</td><td style=\"text-align: right;\">              7</td><td style=\"text-align: right;\">            7</td><td style=\"text-align: right;\">         7</td><td style=\"text-align: right;\">                7</td></tr>\\n<tr><td style=\"text-align: right;\">    8</td><td style=\"text-align: right;\">    25</td><td>Incoming First-year Student</td><td>Yes - BS    </td><td>Computer Science</td><td>Yes           </td><td>STOR 120                                                                      </td><td>None to less than one month!</td><td>               </td><td>      </td><td>                                </td><td>                            </td><td>                                                            </td><td>0 to 2 hours         </td><td>10+ hours          </td><td style=\"text-align: right;\">            1</td><td style=\"text-align: right;\">          5</td><td style=\"text-align: right;\">         4</td><td style=\"text-align: right;\">              6</td><td style=\"text-align: right;\">          5</td><td style=\"text-align: right;\">          7</td><td style=\"text-align: right;\">             7</td><td style=\"text-align: right;\">          1</td><td style=\"text-align: right;\">             7</td><td style=\"text-align: right;\">               7</td><td style=\"text-align: right;\">                      7</td><td style=\"text-align: right;\">             7</td><td>7             </td><td>7                   </td><td style=\"text-align: right;\">     5</td><td style=\"text-align: right;\">           4</td><td style=\"text-align: right;\">              6</td><td style=\"text-align: right;\">            7</td><td style=\"text-align: right;\">         7</td><td style=\"text-align: right;\">                7</td></tr>\\n<tr><td style=\"text-align: right;\">    9</td><td style=\"text-align: right;\">    22</td><td>Returning UNC Student      </td><td>No          </td><td>Neuroscience    </td><td>No            </td><td>MATH 130, MATH 231, MATH 232, PSYC 210                                        </td><td>None to less than one month!</td><td>               </td><td>      </td><td>                                </td><td>                            </td><td>                                                            </td><td>3 to 5 hours         </td><td>5 to 10 hours      </td><td style=\"text-align: right;\">            5</td><td style=\"text-align: right;\">          2</td><td style=\"text-align: right;\">         2</td><td style=\"text-align: right;\">              1</td><td style=\"text-align: right;\">          1</td><td style=\"text-align: right;\">          7</td><td style=\"text-align: right;\">             7</td><td style=\"text-align: right;\">          2</td><td style=\"text-align: right;\">             7</td><td style=\"text-align: right;\">               5</td><td style=\"text-align: right;\">                      7</td><td style=\"text-align: right;\">             7</td><td>7             </td><td>                    </td><td style=\"text-align: right;\">     7</td><td style=\"text-align: right;\">           4</td><td style=\"text-align: right;\">              6</td><td style=\"text-align: right;\">            7</td><td style=\"text-align: right;\">         7</td><td style=\"text-align: right;\">                7</td></tr>\\n</tbody>\\n</table>'"
      ]
     },
     "execution_count": 30,
     "metadata": {},
     "output_type": "execute_result"
    }
   ],
   "source": [
    "data_cols_head: dict[str, list[str]] = head(data_cols, 10)\n",
    "\n",
    "if len(data_cols_head.keys()) != len(data_cols.keys()) or len(data_cols_head[\"ls_effective\"]) != 5:\n",
    "    print(\"Here's your table!\")\n",
    "    \n",
    "tabulate(data_cols_head, data_cols_head.keys(), \"html\")"
   ]
  },
  {
   "cell_type": "markdown",
   "metadata": {},
   "source": [
    "In the section above I am taking the `head` function and using it to read only select portions of my data. I am also implementing `tabulate` so that I can visualize the data as a table."
   ]
  },
  {
   "cell_type": "code",
   "execution_count": 51,
   "metadata": {},
   "outputs": [
    {
     "data": {
      "text/html": [
       "<table>\n",
       "<thead>\n",
       "<tr><th style=\"text-align: right;\">  ls_effective</th><th style=\"text-align: right;\">  flipped_class</th><th>data_science  </th><th>ap_principles  </th></tr>\n",
       "</thead>\n",
       "<tbody>\n",
       "<tr><td style=\"text-align: right;\">             7</td><td style=\"text-align: right;\">              1</td><td>No            </td><td>No             </td></tr>\n",
       "<tr><td style=\"text-align: right;\">             5</td><td style=\"text-align: right;\">              1</td><td>Yes           </td><td>               </td></tr>\n",
       "<tr><td style=\"text-align: right;\">             5</td><td style=\"text-align: right;\">              2</td><td>No            </td><td>               </td></tr>\n",
       "<tr><td style=\"text-align: right;\">             6</td><td style=\"text-align: right;\">              3</td><td>Maybe         </td><td>No             </td></tr>\n",
       "<tr><td style=\"text-align: right;\">             6</td><td style=\"text-align: right;\">              3</td><td>No            </td><td>               </td></tr>\n",
       "<tr><td style=\"text-align: right;\">             7</td><td style=\"text-align: right;\">              2</td><td>Maybe         </td><td>No             </td></tr>\n",
       "<tr><td style=\"text-align: right;\">             7</td><td style=\"text-align: right;\">              5</td><td>Yes           </td><td>Yes            </td></tr>\n",
       "<tr><td style=\"text-align: right;\">             7</td><td style=\"text-align: right;\">              1</td><td>No            </td><td>               </td></tr>\n",
       "<tr><td style=\"text-align: right;\">             7</td><td style=\"text-align: right;\">              6</td><td>Yes           </td><td>               </td></tr>\n",
       "<tr><td style=\"text-align: right;\">             7</td><td style=\"text-align: right;\">              1</td><td>No            </td><td>               </td></tr>\n",
       "</tbody>\n",
       "</table>"
      ],
      "text/plain": [
       "'<table>\\n<thead>\\n<tr><th style=\"text-align: right;\">  ls_effective</th><th style=\"text-align: right;\">  flipped_class</th><th>data_science  </th><th>ap_principles  </th></tr>\\n</thead>\\n<tbody>\\n<tr><td style=\"text-align: right;\">             7</td><td style=\"text-align: right;\">              1</td><td>No            </td><td>No             </td></tr>\\n<tr><td style=\"text-align: right;\">             5</td><td style=\"text-align: right;\">              1</td><td>Yes           </td><td>               </td></tr>\\n<tr><td style=\"text-align: right;\">             5</td><td style=\"text-align: right;\">              2</td><td>No            </td><td>               </td></tr>\\n<tr><td style=\"text-align: right;\">             6</td><td style=\"text-align: right;\">              3</td><td>Maybe         </td><td>No             </td></tr>\\n<tr><td style=\"text-align: right;\">             6</td><td style=\"text-align: right;\">              3</td><td>No            </td><td>               </td></tr>\\n<tr><td style=\"text-align: right;\">             7</td><td style=\"text-align: right;\">              2</td><td>Maybe         </td><td>No             </td></tr>\\n<tr><td style=\"text-align: right;\">             7</td><td style=\"text-align: right;\">              5</td><td>Yes           </td><td>Yes            </td></tr>\\n<tr><td style=\"text-align: right;\">             7</td><td style=\"text-align: right;\">              1</td><td>No            </td><td>               </td></tr>\\n<tr><td style=\"text-align: right;\">             7</td><td style=\"text-align: right;\">              6</td><td>Yes           </td><td>               </td></tr>\\n<tr><td style=\"text-align: right;\">             7</td><td style=\"text-align: right;\">              1</td><td>No            </td><td>               </td></tr>\\n</tbody>\\n</table>'"
      ]
     },
     "execution_count": 51,
     "metadata": {},
     "output_type": "execute_result"
    }
   ],
   "source": [
    "selected_data: dict[str, list[str]] = select(data_cols, [\"ls_effective\", \"flipped_class\", \"data_science\", \"ap_principles\"])\n",
    "\n",
    "tabulate(head(selected_data, 10), selected_data.keys(), \"html\")"
   ]
  },
  {
   "cell_type": "markdown",
   "metadata": {},
   "source": [
    "I am selecting a specific column of data that I want to analyze. For my analyst I want to find out how effective the video tutorials are and also how many students would prefer a two in-person class week so I used the `select` function to only return the `ls_effective` and `flipped_class` columns."
   ]
  },
  {
   "cell_type": "code",
   "execution_count": 53,
   "metadata": {},
   "outputs": [
    {
     "name": "stdout",
     "output_type": "stream",
     "text": [
      "Rating counts: {'7': 257, '5': 120, '6': 154, '4': 46, '1': 8, '3': 28, '2': 7}\n",
      "\n",
      "\n",
      "{'No': 358, 'Yes': 93, 'Maybe': 169}\n",
      "{'No': 162, '': 369, 'Yes': 89}\n",
      "\n",
      "\n",
      "The number of people who really want to keep a video style class is 177 and the number of people who really dont want to keep a video style class is 38.\n"
     ]
    }
   ],
   "source": [
    "rating_count: dict[str, int] = count(selected_data[\"ls_effective\"])\n",
    "print(f\"Rating counts: {rating_count}\")\n",
    "\n",
    "print('\\n')\n",
    "\n",
    "data_science_count: dict[str, int] = count(selected_data[\"data_science\"])\n",
    "print(data_science_count)\n",
    "\n",
    "ap_count: dict[str, int] = count(selected_data[\"ap_principles\"])\n",
    "print(ap_count)\n",
    "\n",
    "print('\\n')\n",
    "\n",
    "flipped_count: dict[str, int] = count(selected_data[\"flipped_class\"])\n",
    "print(f\"The number of people who really want to keep a video style class is {flipped_count['1']} and the number of people who really dont want to keep a video style class is {flipped_count['7']}.\")\n"
   ]
  },
  {
   "cell_type": "markdown",
   "metadata": {},
   "source": [
    "Here I take the isolated 'ls_effective' data and use the `count` function to count how many students gave the video tutorials a 7, 6, 5, 4, 3, 2, and 1. I also used the count function to find out how many students are very in favor of keep the video tutorial schedule (1) and vice versa (7)."
   ]
  },
  {
   "cell_type": "code",
   "execution_count": 55,
   "metadata": {},
   "outputs": [
    {
     "name": "stdout",
     "output_type": "stream",
     "text": [
      "15.0% of students in Comp 110 minor in data science.\n",
      "14.35483870967742% of students in Comp 110 have taken an AP Computer Science class.\n"
     ]
    }
   ],
   "source": [
    "yes_data: float = how_many(data_science_count)\n",
    "print(f\"{yes_data}% of students in Comp 110 minor in data science.\")\n",
    "\n",
    "ap_data: float = how_many(ap_count)\n",
    "print(f\"{ap_data}% of students in Comp 110 have taken an AP Computer Science class.\")"
   ]
  },
  {
   "cell_type": "markdown",
   "metadata": {},
   "source": [
    "The custom function that I made above takes any yes, no, and maybe data in the table and counts how many students answered yes to the prompt and divides it by the total student population. This can help us visualize a certain population of students a lot quicker."
   ]
  },
  {
   "cell_type": "code",
   "execution_count": 46,
   "metadata": {},
   "outputs": [
    {
     "data": {
      "text/plain": [
       "<BarContainer object of 7 artists>"
      ]
     },
     "execution_count": 46,
     "metadata": {},
     "output_type": "execute_result"
    },
    {
     "data": {
      "image/png": "[encoded data removed]",
      "text/plain": [
       "<Figure size 864x360 with 2 Axes>"
      ]
     },
     "metadata": {
      "needs_background": "light"
     },
     "output_type": "display_data"
    }
   ],
   "source": [
    "fig, axes = plt.subplots(1, 2, figsize=(12, 5), sharey=True)\n",
    "fig.suptitle(\"Students thoughts on video tutorials in Comp 110\")\n",
    "\n",
    "axes[0].set_title(\"ls_effective stats\")\n",
    "axes[0].bar(rating_count.keys(), rating_count.values())\n",
    "axes[0].tick_params(axis='x', labelrotation = 45)\n",
    "\n",
    "axes[1].set_title(\"flipped_class stats\")\n",
    "axes[1].bar(flipped_count.keys(), flipped_count.values())"
   ]
  },
  {
   "cell_type": "markdown",
   "metadata": {},
   "source": [
    "There are two tables that helped visualize the pieces of data that we have analyzed. Table one shows who believes that the videos are effective and who doesn't. Table two shows who would prefer having video tutorials over the weekend and two in-person classes."
   ]
  },
  {
   "cell_type": "markdown",
   "metadata": {},
   "source": [
    "## Conclusion\n",
    "\n",
    "In the following markdown cell, write a reflective conclusion given the analysis you performed and identify recommendations.\n",
    "\n",
    "If your analysis of the data supports your idea, state your recommendation for the change and summarize the data analysys results you found which support it. Additionally, describe any extensions or refinements to this idea which might be explored further. Finally, discuss the potential costs, trade-offs, or stakeholders who may be negatively impacted by this proposed change.\n",
    "\n",
    "If your analysis of the data is inconclusive, summarize why your data analysis results were inconclusive in the support of your idea. Additionally, describe what experimental idea implementation or additional data collection might help build more confidence in assessing your idea. Finally, discuss the potential costs, trade-offs, or stakeholders who may be negatively impacted by experimenting with your idea.\n",
    "\n",
    "Finally, if your analysis of the data does not support it, summarize your data analysis results and why it refutes your idea. Discuss the potential costs, trade-offs, or stakeholders who may be negatively impacted by this proposed change. If you disagree with the validity of the findings, describe why your idea still makes sense to implement and what alternative data would better support it. If you agree with the validity of the data analysis, describe what alternate ideas or extensions you would explore instead. "
   ]
  },
  {
   "cell_type": "markdown",
   "metadata": {},
   "source": [
    "### Part 5. Conclusion\n",
    "\n"
   ]
  },
  {
   "cell_type": "markdown",
   "metadata": {},
   "source": [
    "The data that I collected from the Comp 110 survey does not support my claim that the video tutorials are not as helpful or important as in-person lecture. Based on the data majority of the students in Comp 110 currently would be affected negatively. Over 85% of the students in this class rated the video tutorials anywhere from a 5 to a 7. By getting rid of video tutorials it would increase interaction which may increase how much knowledge students retain, however, it could also severely negatively affect a students knowledge of computer science. Maybe a large number of students have an easier time learning when they are able to move at their own pace. I think that the data is unrefutable and if most students find the video tutorials to be helpful then they are overall helpful, so I agree with the data analysis. An alternate idea is more interactive problems in the video tutorials. At the end of each video there can be 1 - 2 problems that relate to what was learned in the video and we can work on the problems posed as a great source of extra practice, and it will also help students retain information and interact with problems a lot more efficiently while in class."
   ]
  }
 ],
 "metadata": {
  "interpreter": {
   "hash": "aee8b7b246df8f9039afb4144a1f6fd8d2ca17a180786b69acc140d282b71a49"
  },
  "kernelspec": {
   "display_name": "Python 3.10.2 64-bit",
   "language": "python",
   "name": "python3"
  },
  "language_info": {
   "codemirror_mode": {
    "name": "ipython",
    "version": 3
   },
   "file_extension": ".py",
   "mimetype": "text/x-python",
   "name": "python",
   "nbconvert_exporter": "python",
   "pygments_lexer": "ipython3",
   "version": "3.10.1"
  },
  "orig_nbformat": 4
 },
 "nbformat": 4,
 "nbformat_minor": 2
}
